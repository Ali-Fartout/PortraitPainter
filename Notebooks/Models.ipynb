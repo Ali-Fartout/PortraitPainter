{
 "cells": [
  {
   "attachments": {},
   "cell_type": "markdown",
   "id": "e428f8a3",
   "metadata": {},
   "source": [
    "# Import requirement"
   ]
  },
  {
   "cell_type": "code",
   "execution_count": 2,
   "id": "0597a0aa",
   "metadata": {},
   "outputs": [],
   "source": [
    "import torch.nn as nn"
   ]
  },
  {
   "attachments": {},
   "cell_type": "markdown",
   "id": "0b2b9e1d",
   "metadata": {},
   "source": [
    "# Unet"
   ]
  },
  {
   "cell_type": "code",
   "execution_count": 13,
   "id": "eac63155",
   "metadata": {},
   "outputs": [],
   "source": [
    "class Encoder(nn.Module):\n",
    "    def __init__(self):\n",
    "        super(Encoder, self).__init__()\n",
    "        # Stage one\n",
    "        self.conv_1 = nn.Conv2d(3, 64, kernel_size=3)\n",
    "        self.conv_2 = nn.Conv2d(64, 64, kernel_size=3)\n",
    "        \n",
    "        # Stage two\n",
    "        self.conv_3 = nn.Conv2d(64, 128 , kernel_size=3)\n",
    "        self.conv_4 = nn.Conv2d(128, 128 , kernel_size=3)\n",
    "\n",
    "        # Stage three\n",
    "        self.conv_5 = nn.Conv2d(128, 256 , kernel_size=3)\n",
    "        self.conv_6 = nn.Conv2d(256, 256 , kernel_size=3)\n",
    "\n",
    "        # Stage four\n",
    "        self.conv_7 = nn.Conv2d(256, 512 , kernel_size=3)\n",
    "        self.conv_8 = nn.Conv2d(512, 512 , kernel_size=3)\n",
    "       \n",
    "        # Stage five\n",
    "        self.conv_9 = nn.Conv2d(512, 1024 , kernel_size=3)\n",
    "        self.conv_10 = nn.Conv2d(1024, 1024 , kernel_size=3)\n",
    "\n",
    "        self.drop_out = nn.Dropout2d(0.5)\n",
    "        self.maxpool = nn.MaxPool2d(2)  \n",
    "        self.relu = nn.ReLU()\n",
    "\n",
    "    def stage_one(self,x):\n",
    "        x = self.conv_1(x)\n",
    "        x = self.relu(x)\n",
    "\n",
    "        x = self.conv_2(x)\n",
    "        x = self.relu(x)\n",
    "\n",
    "        return x , self.maxpool(x)\n",
    "    \n",
    "    def stage_two(self, x):\n",
    "        x = self.conv_3(x)\n",
    "        x = self.relu(x)\n",
    "\n",
    "        x = self.conv_4(x)\n",
    "        x = self.relu(x)\n",
    "\n",
    "        return x , self.maxpool(x)\n",
    "    \n",
    "    def stage_three(self, x):\n",
    "        x = self.conv_5(x)\n",
    "        x = self.relu(x)\n",
    "\n",
    "        x = self.conv_6(x)\n",
    "        x = self.relu(x)\n",
    "\n",
    "        return x , self.maxpool(x)\n",
    "\n",
    "    def stage_four(self, x):\n",
    "        x = self.conv_7(x)\n",
    "        x = self.relu(x)\n",
    "\n",
    "        x = self.conv_8(x)\n",
    "        x = self.relu(x)\n",
    "        x = self.drop_out(x)\n",
    "\n",
    "        return x , self.maxpool(x)\n",
    "    \n",
    "    def stage_five(self, x):\n",
    "        x = self.conv_9(x)\n",
    "        x = self.relu(x)\n",
    "\n",
    "        x = self.conv_10(x)\n",
    "        x = self.relu(x)\n",
    "        x = self.drop_out(x)\n",
    "\n",
    "        return x\n",
    "    \n",
    "    def forward(self, x):\n",
    "        y_1, x = self.stage_one(x)\n",
    "        print(y_1.shape)\n",
    "        y_2, x = self.stage_two(x)\n",
    "        print(y_2.shape)\n",
    "        y_3, x = self.stage_three(x)\n",
    "        print(y_3.shape)\n",
    "        y_4, x = self.stage_four(x)\n",
    "        print(y_4.shape)\n",
    "        x = self.stage_five(x)\n",
    "        print(x.shape)\n",
    "\n",
    "\n",
    "        return x\n",
    "\n"
   ]
  },
  {
   "cell_type": "code",
   "execution_count": 15,
   "id": "8627ac4b",
   "metadata": {},
   "outputs": [
    {
     "name": "stdout",
     "output_type": "stream",
     "text": [
      "torch.Size([64, 1020, 1020])\n",
      "torch.Size([128, 506, 506])\n",
      "torch.Size([256, 249, 249])\n",
      "torch.Size([512, 120, 120])\n",
      "torch.Size([1024, 56, 56])\n"
     ]
    }
   ],
   "source": [
    "import torch\n",
    "encoder = Encoder()\n",
    "inputs = torch.randint(0, 255, (3, 1024, 1024), dtype=torch.float32)\n",
    "encoder(inputs);"
   ]
  },
  {
   "cell_type": "code",
   "execution_count": null,
   "id": "59983497",
   "metadata": {},
   "outputs": [],
   "source": []
  }
 ],
 "metadata": {
  "kernelspec": {
   "display_name": "Python 3 (ipykernel)",
   "language": "python",
   "name": "python3"
  },
  "language_info": {
   "codemirror_mode": {
    "name": "ipython",
    "version": 3
   },
   "file_extension": ".py",
   "mimetype": "text/x-python",
   "name": "python",
   "nbconvert_exporter": "python",
   "pygments_lexer": "ipython3",
   "version": "3.9.13"
  }
 },
 "nbformat": 4,
 "nbformat_minor": 5
}
